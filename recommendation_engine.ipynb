{
 "cells": [
  {
   "cell_type": "code",
   "execution_count": 1,
   "metadata": {},
   "outputs": [],
   "source": [
    "import pandas as pd\n",
    "import numpy as np\n",
    "import matplotlib.pyplot as plt\n",
    "import time\n",
    "from statistics import mode\n",
    "import os\n",
    "import pymysql\n",
    "import turicreate"
   ]
  },
  {
   "cell_type": "code",
   "execution_count": 2,
   "metadata": {},
   "outputs": [],
   "source": [
    "# get connection \n",
    "host = os.getenv('MYSQL_HOST')\n",
    "port = os.getenv('MYSQL_PORT')\n",
    "user = os.getenv('MYSQL_USER')\n",
    "password = '12345678'#os.getenv('MYSQL_PASSWORD')\n",
    "database = os.getenv('MYSQL_DATABASE')\n",
    "\n",
    "conn = pymysql.connect(\n",
    "    host='192.168.0.104',\n",
    "    port=int(3306),\n",
    "    user='root',\n",
    "    passwd = 'root',\n",
    "    db = \"hackathon\",\n",
    "    charset='utf8mb4')\n",
    "\n",
    "cursor = conn.cursor()\n",
    "sql = 'insert into modeltables (user_id, notiifcation_type, parent_id, cat_id, item_id, schedule_notification) values(%d,%s,%d,%d,%d,%s)'"
   ]
  },
  {
   "cell_type": "code",
   "execution_count": 3,
   "metadata": {},
   "outputs": [],
   "source": [
    "category = pd.read_csv('category.csv', index_col=0)\n",
    "parent1_correlation = pd.read_csv('parent1_corelationMatrix.csv', index_col=0)\n",
    "parent2_correlation = pd.read_csv('parent2_corelationMatrix.csv', index_col=0)\n",
    "parent3_correlation = pd.read_csv('parent3_corelationMatrix.csv', index_col=0)\n",
    "recommended_frequency = pd.read_csv('Recommended_Frequency.csv', index_col=0)\n",
    "rfm = pd.read_csv('normalized_rfm.csv', index_col=0)\n",
    "segment_mapping = pd.read_csv('Segment_Mapping.csv', index_col=0)\n",
    "user_category = pd.read_csv('user_categories.csv', index_col=0)\n",
    "events = pd.read_csv('events_preprocessed.csv')"
   ]
  },
  {
   "cell_type": "code",
   "execution_count": 4,
   "metadata": {},
   "outputs": [],
   "source": [
    "categories = segment_mapping.index.tolist()\n",
    "category_dict = {}\n",
    "category_dict[categories[0]] = rfm[(rfm.recency >=4) & (rfm.frequency >= 4) & (rfm.monetary >= 4)].visitor_id.values\n",
    "category_dict[categories[1]] = rfm[(rfm.recency >= 2) & (rfm.frequency >= 3) & (rfm.monetary >= 3)].visitor_id.values\n",
    "category_dict[categories[2]] = rfm[(rfm.recency >= 3) & (rfm.frequency <= 3) & (rfm.monetary <= 3)].visitor_id.values\n",
    "category_dict[categories[3]] = rfm[(rfm.recency >= 4) & (rfm.frequency <= 1) & (rfm.monetary <=1)].visitor_id.values\n",
    "category_dict[categories[4]] = rfm[((rfm.recency >= 4) | (rfm.recency == 3)) & (rfm.frequency <= 1) & (rfm.monetary <=1)].visitor_id.values\n",
    "category_dict[categories[5]] = rfm[((rfm.recency == 2) | (rfm.recency == 3)) & ((rfm.frequency == 2) | (rfm.frequency == 3)) & ((rfm.monetary == 2) | (rfm.monetary == 3))].visitor_id.values\n",
    "category_dict[categories[6]] = rfm[((rfm.recency == 2) | (rfm.recency == 3)) & (rfm.frequency <= 2) & (rfm.monetary <=2)].visitor_id.values\n",
    "category_dict[categories[7]] = rfm[(rfm.recency <= 2) & ((rfm.frequency <= 5) | (rfm.frequency >= 2)) & ((rfm.monetary <=5) | (rfm.monetary >= 2))].visitor_id.values\n",
    "category_dict[categories[8]] = rfm[(rfm.recency <= 1) & ((rfm.frequency == 4) | (rfm.frequency == 5)) & ((rfm.monetary == 4) | (rfm.monetary == 5))].visitor_id.values\n",
    "category_dict[categories[9]] = rfm[((rfm.recency == 1) | (rfm.recency == 2)) & ((rfm.frequency == 1) | (rfm.frequency == 2)) & ((rfm.monetary == 1) | (rfm.monetary == 2))].visitor_id.values\n",
    "category_dict[categories[10]] = rfm[(rfm.recency <= 2) & (rfm.frequency <= 2) & (rfm.monetary <=2)].visitor_id.values"
   ]
  },
  {
   "cell_type": "code",
   "execution_count": 5,
   "metadata": {},
   "outputs": [],
   "source": [
    "# insert into the database. You need to commit though!\n",
    "def insert_(cursor, user_id, notification_type, parent_id, cat_id, item_id, schedule_notification) :\n",
    "    cursor.execute(sql, (user_id, notification_type, parent_id, cat_id, item_id, schedule_notification))"
   ]
  },
  {
   "cell_type": "code",
   "execution_count": 6,
   "metadata": {},
   "outputs": [],
   "source": [
    "# gets the parent_id of the current item using category table\n",
    "def getParent(item_id) :\n",
    "    return category.loc[item_id]['parent_id']"
   ]
  },
  {
   "cell_type": "code",
   "execution_count": 7,
   "metadata": {},
   "outputs": [],
   "source": [
    "# gets the category id of the current item using category table\n",
    "def getCategory(item_id) :\n",
    "    return category.loc[item_id]['category_id']"
   ]
  },
  {
   "cell_type": "code",
   "execution_count": 8,
   "metadata": {},
   "outputs": [],
   "source": [
    "# gets the Items that is most purchase correlated to the current item using correlation matrix\n",
    "# def getCorrelatedItem(item_id) :\n",
    "#     p_id = getParent(item_id)\n",
    "#     if p_id == 1 :\n",
    "#         return int(parent1_correlation.loc[item_id].idxmax())\n",
    "#     elif p_id == 2 :\n",
    "#         return int(parent2_correlation.loc[item_id].idxmax())\n",
    "#     else :\n",
    "#         return int(parent3_correlation.loc[item_id].idxmax())"
   ]
  },
  {
   "cell_type": "code",
   "execution_count": 9,
   "metadata": {},
   "outputs": [],
   "source": [
    "# returns the next timestamp that will have the recommended hour and recommended weekday\n",
    "def getClosestTimestamp(recommended_hour, recommended_weekday) :\n",
    "    current_date = pd.to_datetime(time.time() * 1000, unit='ms')\n",
    "    hour_difference = (recommended_hour)- (current_date.hour)\n",
    "    if hour_difference < 0 :\n",
    "        hour_difference += 24\n",
    "    day_difference = recommended_weekday - current_date.weekday()\n",
    "    if day_difference :\n",
    "        day_difference += 7  \n",
    "    return int(current_date.timestamp() + hour_difference * 60*60 + day_difference * 86400)\n"
   ]
  },
  {
   "cell_type": "code",
   "execution_count": null,
   "metadata": {},
   "outputs": [],
   "source": [
    "import turicreate\n",
    "recommend_ds = events.drop([\"Unnamed: 0\",\"timestamp\",\"transactionid\"],axis=1)\n",
    "recommend_ds=recommend_ds.rename(columns = {'visitor_id':'user_id'})\n",
    "sf = turicreate.SFrame(recommend_ds)\n",
    "m = turicreate.ranking_factorization_recommender.create(sf)\n",
    "\n",
    "recommendations = m.recommend()"
   ]
  },
  {
   "cell_type": "code",
   "execution_count": 10,
   "metadata": {},
   "outputs": [],
   "source": [
    "# called the number of times specified by the recommended_frequency table\n",
    "def recommend(user_id) :\n",
    "    user_events = events[events.visitor_id == user_id]\n",
    "\n",
    "    # hour of the day the next notification should be sent\n",
    "    send_hour = user_events.hour.mode()[0]\n",
    "\n",
    "    # weekday on which next notification should be sent\n",
    "    send_weekday = user_events.weekday.mode()[0]\n",
    "\n",
    "    # the closest timestamp at which the current criteria is met\n",
    "    \n",
    "    # decide the type of notification that the user should be sent\n",
    "\n",
    "    categories\n",
    "\n",
    "    # for that we need to know the segments the user is in\n",
    "    u_categories = []\n",
    "    #for i in category_dict.keys() :\n",
    "    [u_categories.append(i) if (user_id in category_dict[i]) else 1==1 for i in category_dict.keys()]\n",
    "    u_categories\n",
    "\n",
    "    # now get the possible type of notification that can be sent to the user\n",
    "    opposite = segment_mapping.transpose()\n",
    "\n",
    "    possible_notifications = []\n",
    "    for cat in u_categories:\n",
    "        possible_notifications = possible_notifications + opposite[opposite[cat] == 1].index.values.tolist() \n",
    "    possible_notifications\n",
    "    \n",
    "    # get 10 most recent products that the particular user has bought in the past\n",
    "    item_list = events[(events.visitor_id == user_id) & (events.event == 2)].sort_values(by='timestamp').item_id.tolist()[:10]\n",
    "\n",
    "\n",
    "    # get item which has highest correlation to the current item from the matrix\n",
    "\n",
    "    recommendations = m.recommend(users=[user_id])\n",
    "    x = list(recommendations.select_columns(['item_id']))\n",
    "    recommended_list = list()\n",
    "    for item in x:\n",
    "        for key,value in item.items():\n",
    "            recommended_list.append(value)\n",
    "            \n",
    "    return (send_hour, send_weekday, possible_notifications, recommended_list)\n"
   ]
  },
  {
   "cell_type": "code",
   "execution_count": 32,
   "metadata": {},
   "outputs": [
    {
     "data": {
      "text/plain": [
       "Timestamp('2019-03-04 15:26:26')"
      ]
     },
     "execution_count": 32,
     "metadata": {},
     "output_type": "execute_result"
    }
   ],
   "source": [
    "output = recommend(1127)\n",
    "y = getClosestTimestamp(output[0],output[1])\n",
    "pd.to_datetime(y * 1000, unit='ms')"
   ]
  },
  {
   "cell_type": "code",
   "execution_count": 33,
   "metadata": {},
   "outputs": [
    {
     "data": {
      "text/plain": [
       "(15,\n",
       " 0,\n",
       " ['Sale Promotions',\n",
       "  'Newsletters',\n",
       "  'Customer Testimonials',\n",
       "  'First-order-only coupons',\n",
       "  'Order Confirmation',\n",
       "  'Time-sensitive Coupons',\n",
       "  'Big Product Update',\n",
       "  'How-can we help? questionaires',\n",
       "  'Sale Promotions',\n",
       "  'Welcome Email Series',\n",
       "  'Cart Recovery Prompts',\n",
       "  'Newsletters',\n",
       "  'Order Confirmation',\n",
       "  'Educational Content',\n",
       "  'Educational Content.1',\n",
       "  'Membership',\n",
       "  'Company Announcements',\n",
       "  'Customer Testimonials',\n",
       "  'Product Recommendation',\n",
       "  'Membership'],\n",
       " [3294, 656, 543, 3298, 4826, 2091, 7633, 3080, 6733, 840])"
      ]
     },
     "execution_count": 33,
     "metadata": {},
     "output_type": "execute_result"
    }
   ],
   "source": [
    "output"
   ]
  },
  {
   "cell_type": "code",
   "execution_count": 37,
   "metadata": {},
   "outputs": [
    {
     "data": {
      "text/plain": [
       "\"insert into modeltables (user_id, notiifcation_type, parent_id, cat_id, item_id, schedule_notification) values (9537, 'Sale Promotions', 2, 1, 3294, '2019-03-02 14:30:25');\""
      ]
     },
     "execution_count": 37,
     "metadata": {},
     "output_type": "execute_result"
    }
   ],
   "source": [
    "#insert_(cursor, 9537, mode(x[2]), getParent(x[3][0]), getCategory(x[3][0]), x[3][0], getClosestTimestamp(x[0], x[1]))\n",
    "sql =\"insert into modeltables (user_id, notiifcation_type, parent_id, cat_id, item_id, schedule_notification) values ({0}, '{1}', {2}, {3}, {4}, '{5}');\"\n",
    "sql = sql.format(9537, str(output[2][0]), getParent(output[3][0]), getCategory(output[3][0]),output[3][0], pd.to_datetime(getClosestTimestamp(14,5) * 1000, unit='ms'))\n",
    "sql"
   ]
  },
  {
   "cell_type": "code",
   "execution_count": 38,
   "metadata": {},
   "outputs": [
    {
     "data": {
      "text/plain": [
       "1"
      ]
     },
     "execution_count": 38,
     "metadata": {},
     "output_type": "execute_result"
    }
   ],
   "source": [
    "cursor.execute(sql)\n",
    "#df = cursor.execute(\"insert into modeltables (user_id, notiifcation_type, parent_id, cat_id, item_id, schedule_notification) values (3, 'check', 1, 3, 111, 30001010);\")"
   ]
  },
  {
   "cell_type": "code",
   "execution_count": 39,
   "metadata": {},
   "outputs": [],
   "source": [
    "conn.commit()"
   ]
  },
  {
   "cell_type": "code",
   "execution_count": 14,
   "metadata": {},
   "outputs": [],
   "source": [
    " = int(time.time() * 1000) + 60 * 3"
   ]
  },
  {
   "cell_type": "code",
   "execution_count": 15,
   "metadata": {},
   "outputs": [
    {
     "data": {
      "text/plain": [
       "1551532430349"
      ]
     },
     "execution_count": 15,
     "metadata": {},
     "output_type": "execute_result"
    }
   ],
   "source": [
    "x"
   ]
  },
  {
   "cell_type": "code",
   "execution_count": 23,
   "metadata": {},
   "outputs": [],
   "source": [
    "z = pd.to_datetime(time.time() * 1000, unit='ms')"
   ]
  },
  {
   "cell_type": "code",
   "execution_count": 29,
   "metadata": {},
   "outputs": [
    {
     "data": {
      "text/plain": [
       "1551532572000"
      ]
     },
     "execution_count": 29,
     "metadata": {},
     "output_type": "execute_result"
    }
   ],
   "source": [
    "int(z.timestamp()) * 1000"
   ]
  },
  {
   "cell_type": "code",
   "execution_count": null,
   "metadata": {},
   "outputs": [],
   "source": []
  }
 ],
 "metadata": {
  "kernelspec": {
   "display_name": "Python 3",
   "language": "python",
   "name": "python3"
  },
  "language_info": {
   "codemirror_mode": {
    "name": "ipython",
    "version": 3
   },
   "file_extension": ".py",
   "mimetype": "text/x-python",
   "name": "python",
   "nbconvert_exporter": "python",
   "pygments_lexer": "ipython3",
   "version": "3.6.6"
  }
 },
 "nbformat": 4,
 "nbformat_minor": 2
}
