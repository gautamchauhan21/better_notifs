{
 "cells": [
  {
   "cell_type": "code",
   "execution_count": 1,
   "metadata": {},
   "outputs": [],
   "source": [
    "import pandas as pd\n",
    "import numpy as np\n",
    "import time\n",
    "from datetime import date\n",
    "import datetime\n",
    "%matplotlib inline"
   ]
  },
  {
   "cell_type": "code",
   "execution_count": 2,
   "metadata": {},
   "outputs": [],
   "source": [
    "events = pd.read_csv(\"/Users/gautamchauhan21/Downloads/push_notification_system_dataset/events_final.csv\")"
   ]
  },
  {
   "cell_type": "code",
   "execution_count": 3,
   "metadata": {},
   "outputs": [
    {
     "name": "stdout",
     "output_type": "stream",
     "text": [
      "Total number of visitors present in the dataset: 29999\n"
     ]
    }
   ],
   "source": [
    "events = events.drop([\"Unnamed: 0\",\"transactionid\"],axis=1)\n",
    "print(\"Total number of visitors present in the dataset: %s\" %(len(events.visitor_id.unique())))"
   ]
  },
  {
   "cell_type": "code",
   "execution_count": 4,
   "metadata": {},
   "outputs": [
    {
     "data": {
      "text/plain": [
       "0    1378067\n",
       "1     689298\n",
       "2     688736\n",
       "Name: event, dtype: int64"
      ]
     },
     "execution_count": 4,
     "metadata": {},
     "output_type": "execute_result"
    }
   ],
   "source": [
    "# encoding = {\"view\" : 0, \"addtocart\" : 1, \"transaction\" : 2}\n",
    "events.event.value_counts()"
   ]
  },
  {
   "cell_type": "code",
   "execution_count": 5,
   "metadata": {},
   "outputs": [
    {
     "data": {
      "text/html": [
       "<div>\n",
       "<style scoped>\n",
       "    .dataframe tbody tr th:only-of-type {\n",
       "        vertical-align: middle;\n",
       "    }\n",
       "\n",
       "    .dataframe tbody tr th {\n",
       "        vertical-align: top;\n",
       "    }\n",
       "\n",
       "    .dataframe thead th {\n",
       "        text-align: right;\n",
       "    }\n",
       "</style>\n",
       "<table border=\"1\" class=\"dataframe\">\n",
       "  <thead>\n",
       "    <tr style=\"text-align: right;\">\n",
       "      <th></th>\n",
       "      <th>timestamp</th>\n",
       "      <th>event</th>\n",
       "      <th>transaction_amt</th>\n",
       "      <th>item_id</th>\n",
       "      <th>visitor_id</th>\n",
       "    </tr>\n",
       "  </thead>\n",
       "  <tbody>\n",
       "    <tr>\n",
       "      <th>0</th>\n",
       "      <td>2018-10-28 00:12:27.329</td>\n",
       "      <td>0</td>\n",
       "      <td>0.000000</td>\n",
       "      <td>167</td>\n",
       "      <td>27815</td>\n",
       "    </tr>\n",
       "    <tr>\n",
       "      <th>1</th>\n",
       "      <td>2018-10-28 01:00:29.376</td>\n",
       "      <td>2</td>\n",
       "      <td>10615.425974</td>\n",
       "      <td>2568</td>\n",
       "      <td>4357</td>\n",
       "    </tr>\n",
       "    <tr>\n",
       "      <th>2</th>\n",
       "      <td>2018-10-28 00:23:35.039</td>\n",
       "      <td>1</td>\n",
       "      <td>0.000000</td>\n",
       "      <td>3657</td>\n",
       "      <td>27322</td>\n",
       "    </tr>\n",
       "    <tr>\n",
       "      <th>3</th>\n",
       "      <td>2018-10-28 00:22:51.126</td>\n",
       "      <td>1</td>\n",
       "      <td>0.000000</td>\n",
       "      <td>3492</td>\n",
       "      <td>28392</td>\n",
       "    </tr>\n",
       "    <tr>\n",
       "      <th>4</th>\n",
       "      <td>2018-10-28 00:12:32.318</td>\n",
       "      <td>1</td>\n",
       "      <td>0.000000</td>\n",
       "      <td>1210</td>\n",
       "      <td>18319</td>\n",
       "    </tr>\n",
       "  </tbody>\n",
       "</table>\n",
       "</div>"
      ],
      "text/plain": [
       "                timestamp  event  transaction_amt  item_id  visitor_id\n",
       "0 2018-10-28 00:12:27.329      0         0.000000      167       27815\n",
       "1 2018-10-28 01:00:29.376      2     10615.425974     2568        4357\n",
       "2 2018-10-28 00:23:35.039      1         0.000000     3657       27322\n",
       "3 2018-10-28 00:22:51.126      1         0.000000     3492       28392\n",
       "4 2018-10-28 00:12:32.318      1         0.000000     1210       18319"
      ]
     },
     "execution_count": 5,
     "metadata": {},
     "output_type": "execute_result"
    }
   ],
   "source": [
    "current_timestamp = 1550009403 * 1000\n",
    "\n",
    "# add to timestamp\n",
    "difference = current_timestamp - events.timestamp.max()\n",
    "\n",
    "# add difference to timestamp\n",
    "events.timestamp = events.timestamp.map(lambda x : x + difference)\n",
    "\n",
    "events['timestamp'] = pd.to_datetime(events['timestamp'].astype(int), unit='ms')\n",
    "events.head()"
   ]
  },
  {
   "cell_type": "code",
   "execution_count": 6,
   "metadata": {},
   "outputs": [
    {
     "data": {
      "text/html": [
       "<div>\n",
       "<style scoped>\n",
       "    .dataframe tbody tr th:only-of-type {\n",
       "        vertical-align: middle;\n",
       "    }\n",
       "\n",
       "    .dataframe tbody tr th {\n",
       "        vertical-align: top;\n",
       "    }\n",
       "\n",
       "    .dataframe thead th {\n",
       "        text-align: right;\n",
       "    }\n",
       "</style>\n",
       "<table border=\"1\" class=\"dataframe\">\n",
       "  <thead>\n",
       "    <tr style=\"text-align: right;\">\n",
       "      <th></th>\n",
       "      <th>timestamp</th>\n",
       "      <th>event</th>\n",
       "      <th>transaction_amt</th>\n",
       "      <th>item_id</th>\n",
       "      <th>visitor_id</th>\n",
       "      <th>year</th>\n",
       "      <th>month</th>\n",
       "      <th>day</th>\n",
       "      <th>hour</th>\n",
       "    </tr>\n",
       "  </thead>\n",
       "  <tbody>\n",
       "    <tr>\n",
       "      <th>0</th>\n",
       "      <td>2018-10-28 00:12:27.329</td>\n",
       "      <td>0</td>\n",
       "      <td>0.000000</td>\n",
       "      <td>167</td>\n",
       "      <td>27815</td>\n",
       "      <td>2018</td>\n",
       "      <td>10</td>\n",
       "      <td>28</td>\n",
       "      <td>0</td>\n",
       "    </tr>\n",
       "    <tr>\n",
       "      <th>1</th>\n",
       "      <td>2018-10-28 01:00:29.376</td>\n",
       "      <td>2</td>\n",
       "      <td>10615.425974</td>\n",
       "      <td>2568</td>\n",
       "      <td>4357</td>\n",
       "      <td>2018</td>\n",
       "      <td>10</td>\n",
       "      <td>28</td>\n",
       "      <td>1</td>\n",
       "    </tr>\n",
       "    <tr>\n",
       "      <th>2</th>\n",
       "      <td>2018-10-28 00:23:35.039</td>\n",
       "      <td>1</td>\n",
       "      <td>0.000000</td>\n",
       "      <td>3657</td>\n",
       "      <td>27322</td>\n",
       "      <td>2018</td>\n",
       "      <td>10</td>\n",
       "      <td>28</td>\n",
       "      <td>0</td>\n",
       "    </tr>\n",
       "    <tr>\n",
       "      <th>3</th>\n",
       "      <td>2018-10-28 00:22:51.126</td>\n",
       "      <td>1</td>\n",
       "      <td>0.000000</td>\n",
       "      <td>3492</td>\n",
       "      <td>28392</td>\n",
       "      <td>2018</td>\n",
       "      <td>10</td>\n",
       "      <td>28</td>\n",
       "      <td>0</td>\n",
       "    </tr>\n",
       "    <tr>\n",
       "      <th>4</th>\n",
       "      <td>2018-10-28 00:12:32.318</td>\n",
       "      <td>1</td>\n",
       "      <td>0.000000</td>\n",
       "      <td>1210</td>\n",
       "      <td>18319</td>\n",
       "      <td>2018</td>\n",
       "      <td>10</td>\n",
       "      <td>28</td>\n",
       "      <td>0</td>\n",
       "    </tr>\n",
       "  </tbody>\n",
       "</table>\n",
       "</div>"
      ],
      "text/plain": [
       "                timestamp  event  transaction_amt  item_id  visitor_id  year  \\\n",
       "0 2018-10-28 00:12:27.329      0         0.000000      167       27815  2018   \n",
       "1 2018-10-28 01:00:29.376      2     10615.425974     2568        4357  2018   \n",
       "2 2018-10-28 00:23:35.039      1         0.000000     3657       27322  2018   \n",
       "3 2018-10-28 00:22:51.126      1         0.000000     3492       28392  2018   \n",
       "4 2018-10-28 00:12:32.318      1         0.000000     1210       18319  2018   \n",
       "\n",
       "   month  day  hour  \n",
       "0     10   28     0  \n",
       "1     10   28     1  \n",
       "2     10   28     0  \n",
       "3     10   28     0  \n",
       "4     10   28     0  "
      ]
     },
     "execution_count": 6,
     "metadata": {},
     "output_type": "execute_result"
    }
   ],
   "source": [
    "# append the datetime format\n",
    "events['year'] = pd.DatetimeIndex(events['timestamp']).year\n",
    "events['month'] = pd.DatetimeIndex(events['timestamp']).month\n",
    "events['day'] = pd.DatetimeIndex(events['timestamp']).day\n",
    "events['hour'] = pd.DatetimeIndex(events['timestamp']).hour\n",
    "\n",
    "events.head()"
   ]
  },
  {
   "cell_type": "code",
   "execution_count": 7,
   "metadata": {},
   "outputs": [],
   "source": [
    "events['weekday'] = pd.DatetimeIndex(events['timestamp']).weekday"
   ]
  },
  {
   "cell_type": "code",
   "execution_count": 8,
   "metadata": {},
   "outputs": [],
   "source": [
    "events[\"platform\"] = np.random.choice([\"Android\", \"Ios\"], len(events), p=[0.75, 0.25])"
   ]
  },
  {
   "cell_type": "code",
   "execution_count": 9,
   "metadata": {},
   "outputs": [
    {
     "data": {
      "text/html": [
       "<div>\n",
       "<style scoped>\n",
       "    .dataframe tbody tr th:only-of-type {\n",
       "        vertical-align: middle;\n",
       "    }\n",
       "\n",
       "    .dataframe tbody tr th {\n",
       "        vertical-align: top;\n",
       "    }\n",
       "\n",
       "    .dataframe thead th {\n",
       "        text-align: right;\n",
       "    }\n",
       "</style>\n",
       "<table border=\"1\" class=\"dataframe\">\n",
       "  <thead>\n",
       "    <tr style=\"text-align: right;\">\n",
       "      <th></th>\n",
       "      <th>timestamp</th>\n",
       "      <th>event</th>\n",
       "      <th>transaction_amt</th>\n",
       "      <th>item_id</th>\n",
       "      <th>visitor_id</th>\n",
       "      <th>year</th>\n",
       "      <th>month</th>\n",
       "      <th>day</th>\n",
       "      <th>hour</th>\n",
       "      <th>weekday</th>\n",
       "      <th>platform</th>\n",
       "    </tr>\n",
       "  </thead>\n",
       "  <tbody>\n",
       "    <tr>\n",
       "      <th>2756096</th>\n",
       "      <td>2018-12-26 22:23:21.151</td>\n",
       "      <td>0</td>\n",
       "      <td>0.0</td>\n",
       "      <td>6285</td>\n",
       "      <td>13123</td>\n",
       "      <td>2018</td>\n",
       "      <td>12</td>\n",
       "      <td>26</td>\n",
       "      <td>22</td>\n",
       "      <td>2</td>\n",
       "      <td>Ios</td>\n",
       "    </tr>\n",
       "    <tr>\n",
       "      <th>2756097</th>\n",
       "      <td>2018-12-26 22:40:28.354</td>\n",
       "      <td>0</td>\n",
       "      <td>0.0</td>\n",
       "      <td>5643</td>\n",
       "      <td>16844</td>\n",
       "      <td>2018</td>\n",
       "      <td>12</td>\n",
       "      <td>26</td>\n",
       "      <td>22</td>\n",
       "      <td>2</td>\n",
       "      <td>Ios</td>\n",
       "    </tr>\n",
       "    <tr>\n",
       "      <th>2756098</th>\n",
       "      <td>2018-12-26 22:07:15.739</td>\n",
       "      <td>0</td>\n",
       "      <td>0.0</td>\n",
       "      <td>825</td>\n",
       "      <td>14577</td>\n",
       "      <td>2018</td>\n",
       "      <td>12</td>\n",
       "      <td>26</td>\n",
       "      <td>22</td>\n",
       "      <td>2</td>\n",
       "      <td>Android</td>\n",
       "    </tr>\n",
       "    <tr>\n",
       "      <th>2756099</th>\n",
       "      <td>2018-12-26 22:19:05.915</td>\n",
       "      <td>0</td>\n",
       "      <td>0.0</td>\n",
       "      <td>8678</td>\n",
       "      <td>8547</td>\n",
       "      <td>2018</td>\n",
       "      <td>12</td>\n",
       "      <td>26</td>\n",
       "      <td>22</td>\n",
       "      <td>2</td>\n",
       "      <td>Ios</td>\n",
       "    </tr>\n",
       "    <tr>\n",
       "      <th>2756100</th>\n",
       "      <td>2018-12-26 22:46:19.126</td>\n",
       "      <td>0</td>\n",
       "      <td>0.0</td>\n",
       "      <td>862</td>\n",
       "      <td>20061</td>\n",
       "      <td>2018</td>\n",
       "      <td>12</td>\n",
       "      <td>26</td>\n",
       "      <td>22</td>\n",
       "      <td>2</td>\n",
       "      <td>Ios</td>\n",
       "    </tr>\n",
       "  </tbody>\n",
       "</table>\n",
       "</div>"
      ],
      "text/plain": [
       "                      timestamp  event  transaction_amt  item_id  visitor_id  \\\n",
       "2756096 2018-12-26 22:23:21.151      0              0.0     6285       13123   \n",
       "2756097 2018-12-26 22:40:28.354      0              0.0     5643       16844   \n",
       "2756098 2018-12-26 22:07:15.739      0              0.0      825       14577   \n",
       "2756099 2018-12-26 22:19:05.915      0              0.0     8678        8547   \n",
       "2756100 2018-12-26 22:46:19.126      0              0.0      862       20061   \n",
       "\n",
       "         year  month  day  hour  weekday platform  \n",
       "2756096  2018     12   26    22        2      Ios  \n",
       "2756097  2018     12   26    22        2      Ios  \n",
       "2756098  2018     12   26    22        2  Android  \n",
       "2756099  2018     12   26    22        2      Ios  \n",
       "2756100  2018     12   26    22        2      Ios  "
      ]
     },
     "execution_count": 9,
     "metadata": {},
     "output_type": "execute_result"
    }
   ],
   "source": [
    "events.tail()"
   ]
  },
  {
   "cell_type": "code",
   "execution_count": 10,
   "metadata": {},
   "outputs": [],
   "source": [
    "events.to_csv(\"events_preprocessed.csv\",index=False)"
   ]
  },
  {
   "cell_type": "markdown",
   "metadata": {},
   "source": [
    "# Recency"
   ]
  },
  {
   "cell_type": "code",
   "execution_count": 11,
   "metadata": {},
   "outputs": [
    {
     "data": {
      "text/plain": [
       "0     443\n",
       "1    3739\n",
       "2    8476\n",
       "dtype: int64"
      ]
     },
     "execution_count": 11,
     "metadata": {},
     "output_type": "execute_result"
    }
   ],
   "source": [
    "# events.visitor_id.value_counts().idxmax()\n",
    "events.visitor_id.mode()"
   ]
  },
  {
   "cell_type": "code",
   "execution_count": 12,
   "metadata": {},
   "outputs": [
    {
     "name": "stdout",
     "output_type": "stream",
     "text": [
      "User 8476 did 28 transactions in total\n"
     ]
    }
   ],
   "source": [
    "# get the frequency of individual user's activity\n",
    "user_id = 8476\n",
    "ev = 2\n",
    "\n",
    "print(\"User %s did %s transactions in total\" %(user_id,len(events[(events[\"visitor_id\"] == user_id) & (events[\"event\"] == ev)])))"
   ]
  },
  {
   "cell_type": "code",
   "execution_count": 13,
   "metadata": {},
   "outputs": [
    {
     "name": "stdout",
     "output_type": "stream",
     "text": [
      "His recent transaction was done on: 2019-01-27 07:07:58.933000\n"
     ]
    }
   ],
   "source": [
    "# get latest timestamp for activity\n",
    "\n",
    "print(\"His recent transaction was done on: %s\"%(events[(events['visitor_id'] == user_id) & (events['event'] == ev)].timestamp.max()))"
   ]
  },
  {
   "cell_type": "code",
   "execution_count": 14,
   "metadata": {},
   "outputs": [
    {
     "name": "stdout",
     "output_type": "stream",
     "text": [
      "Total % of users who did transactions are: 4.355660223946476 %\n"
     ]
    }
   ],
   "source": [
    "# get all users who have done transaction \n",
    "# all others are given the lowest score since they haven't done any transaction\n",
    "\n",
    "users_= events[events['event'] == 2].visitor_id.unique()\n",
    "events_= events[events['event'] == 2]\n",
    "print(\"Total % of users who did transactions are:\",(len(users_)/len(events_))*100,\"%\")"
   ]
  },
  {
   "cell_type": "code",
   "execution_count": 15,
   "metadata": {},
   "outputs": [],
   "source": [
    "recency = events.groupby(by='visitor_id', as_index=False)['timestamp'].max()\n",
    "recency.columns = ['visitor_id','lastpurchasetime']\n",
    "recency['recency'] = recency['lastpurchasetime'].apply(lambda x: (datetime.datetime.now() - x).days)"
   ]
  },
  {
   "cell_type": "markdown",
   "metadata": {},
   "source": [
    "# Frequency"
   ]
  },
  {
   "cell_type": "code",
   "execution_count": 16,
   "metadata": {},
   "outputs": [
    {
     "data": {
      "text/html": [
       "<div>\n",
       "<style scoped>\n",
       "    .dataframe tbody tr th:only-of-type {\n",
       "        vertical-align: middle;\n",
       "    }\n",
       "\n",
       "    .dataframe tbody tr th {\n",
       "        vertical-align: top;\n",
       "    }\n",
       "\n",
       "    .dataframe thead th {\n",
       "        text-align: right;\n",
       "    }\n",
       "</style>\n",
       "<table border=\"1\" class=\"dataframe\">\n",
       "  <thead>\n",
       "    <tr style=\"text-align: right;\">\n",
       "      <th></th>\n",
       "      <th>visitor_id</th>\n",
       "      <th>frequency</th>\n",
       "    </tr>\n",
       "  </thead>\n",
       "  <tbody>\n",
       "    <tr>\n",
       "      <th>0</th>\n",
       "      <td>1</td>\n",
       "      <td>91</td>\n",
       "    </tr>\n",
       "    <tr>\n",
       "      <th>1</th>\n",
       "      <td>2</td>\n",
       "      <td>103</td>\n",
       "    </tr>\n",
       "    <tr>\n",
       "      <th>2</th>\n",
       "      <td>3</td>\n",
       "      <td>91</td>\n",
       "    </tr>\n",
       "    <tr>\n",
       "      <th>3</th>\n",
       "      <td>4</td>\n",
       "      <td>81</td>\n",
       "    </tr>\n",
       "    <tr>\n",
       "      <th>4</th>\n",
       "      <td>5</td>\n",
       "      <td>91</td>\n",
       "    </tr>\n",
       "  </tbody>\n",
       "</table>\n",
       "</div>"
      ],
      "text/plain": [
       "   visitor_id  frequency\n",
       "0           1         91\n",
       "1           2        103\n",
       "2           3         91\n",
       "3           4         81\n",
       "4           5         91"
      ]
     },
     "execution_count": 16,
     "metadata": {},
     "output_type": "execute_result"
    }
   ],
   "source": [
    "#calculate frequency of events\n",
    "frequency_df = events.groupby(by=['visitor_id'], as_index=False)['event'].count()\n",
    "frequency_df.columns = ['visitor_id','frequency']\n",
    "frequency_df.head()"
   ]
  },
  {
   "cell_type": "markdown",
   "metadata": {},
   "source": [
    "# Monetary"
   ]
  },
  {
   "cell_type": "code",
   "execution_count": 17,
   "metadata": {},
   "outputs": [
    {
     "data": {
      "text/html": [
       "<div>\n",
       "<style scoped>\n",
       "    .dataframe tbody tr th:only-of-type {\n",
       "        vertical-align: middle;\n",
       "    }\n",
       "\n",
       "    .dataframe tbody tr th {\n",
       "        vertical-align: top;\n",
       "    }\n",
       "\n",
       "    .dataframe thead th {\n",
       "        text-align: right;\n",
       "    }\n",
       "</style>\n",
       "<table border=\"1\" class=\"dataframe\">\n",
       "  <thead>\n",
       "    <tr style=\"text-align: right;\">\n",
       "      <th></th>\n",
       "      <th>visitor_id</th>\n",
       "      <th>transaction_amt</th>\n",
       "    </tr>\n",
       "  </thead>\n",
       "  <tbody>\n",
       "    <tr>\n",
       "      <th>0</th>\n",
       "      <td>1</td>\n",
       "      <td>292110.277656</td>\n",
       "    </tr>\n",
       "    <tr>\n",
       "      <th>1</th>\n",
       "      <td>2</td>\n",
       "      <td>262238.426654</td>\n",
       "    </tr>\n",
       "    <tr>\n",
       "      <th>2</th>\n",
       "      <td>3</td>\n",
       "      <td>108361.800668</td>\n",
       "    </tr>\n",
       "    <tr>\n",
       "      <th>3</th>\n",
       "      <td>4</td>\n",
       "      <td>139132.195708</td>\n",
       "    </tr>\n",
       "    <tr>\n",
       "      <th>4</th>\n",
       "      <td>5</td>\n",
       "      <td>139624.498537</td>\n",
       "    </tr>\n",
       "  </tbody>\n",
       "</table>\n",
       "</div>"
      ],
      "text/plain": [
       "   visitor_id  transaction_amt\n",
       "0           1    292110.277656\n",
       "1           2    262238.426654\n",
       "2           3    108361.800668\n",
       "3           4    139132.195708\n",
       "4           5    139624.498537"
      ]
     },
     "execution_count": 17,
     "metadata": {},
     "output_type": "execute_result"
    }
   ],
   "source": [
    "def summ(df):\n",
    "    df = df[[\"visitor_id\", \"transaction_amt\"]] \n",
    "    df = df.groupby('visitor_id')['transaction_amt'].agg('sum').reset_index()\n",
    "    return df\n",
    "\n",
    "monetary = summ(events)\n",
    "monetary.head()"
   ]
  },
  {
   "cell_type": "code",
   "execution_count": 18,
   "metadata": {},
   "outputs": [
    {
     "data": {
      "text/html": [
       "<div>\n",
       "<style scoped>\n",
       "    .dataframe tbody tr th:only-of-type {\n",
       "        vertical-align: middle;\n",
       "    }\n",
       "\n",
       "    .dataframe tbody tr th {\n",
       "        vertical-align: top;\n",
       "    }\n",
       "\n",
       "    .dataframe thead th {\n",
       "        text-align: right;\n",
       "    }\n",
       "</style>\n",
       "<table border=\"1\" class=\"dataframe\">\n",
       "  <thead>\n",
       "    <tr style=\"text-align: right;\">\n",
       "      <th></th>\n",
       "      <th>visitor_id</th>\n",
       "      <th>lastpurchasetime</th>\n",
       "      <th>recency</th>\n",
       "      <th>frequency</th>\n",
       "      <th>transaction_amt</th>\n",
       "    </tr>\n",
       "  </thead>\n",
       "  <tbody>\n",
       "    <tr>\n",
       "      <th>0</th>\n",
       "      <td>1</td>\n",
       "      <td>2019-02-09 13:07:42.611</td>\n",
       "      <td>21</td>\n",
       "      <td>91</td>\n",
       "      <td>292110.277656</td>\n",
       "    </tr>\n",
       "    <tr>\n",
       "      <th>1</th>\n",
       "      <td>2</td>\n",
       "      <td>2019-02-11 23:37:59.533</td>\n",
       "      <td>19</td>\n",
       "      <td>103</td>\n",
       "      <td>262238.426654</td>\n",
       "    </tr>\n",
       "    <tr>\n",
       "      <th>2</th>\n",
       "      <td>3</td>\n",
       "      <td>2019-02-09 19:49:39.239</td>\n",
       "      <td>21</td>\n",
       "      <td>91</td>\n",
       "      <td>108361.800668</td>\n",
       "    </tr>\n",
       "    <tr>\n",
       "      <th>3</th>\n",
       "      <td>4</td>\n",
       "      <td>2019-02-11 18:45:20.279</td>\n",
       "      <td>19</td>\n",
       "      <td>81</td>\n",
       "      <td>139132.195708</td>\n",
       "    </tr>\n",
       "    <tr>\n",
       "      <th>4</th>\n",
       "      <td>5</td>\n",
       "      <td>2019-02-11 14:07:52.022</td>\n",
       "      <td>19</td>\n",
       "      <td>91</td>\n",
       "      <td>139624.498537</td>\n",
       "    </tr>\n",
       "  </tbody>\n",
       "</table>\n",
       "</div>"
      ],
      "text/plain": [
       "   visitor_id        lastpurchasetime  recency  frequency  transaction_amt\n",
       "0           1 2019-02-09 13:07:42.611       21         91    292110.277656\n",
       "1           2 2019-02-11 23:37:59.533       19        103    262238.426654\n",
       "2           3 2019-02-09 19:49:39.239       21         91    108361.800668\n",
       "3           4 2019-02-11 18:45:20.279       19         81    139132.195708\n",
       "4           5 2019-02-11 14:07:52.022       19         91    139624.498537"
      ]
     },
     "execution_count": 18,
     "metadata": {},
     "output_type": "execute_result"
    }
   ],
   "source": [
    "rfm_df = recency.merge(frequency_df,on='visitor_id')\n",
    "rfm_df = rfm_df.merge(monetary,on='visitor_id')\n",
    "rfm_df.head()"
   ]
  },
  {
   "cell_type": "code",
   "execution_count": 19,
   "metadata": {},
   "outputs": [],
   "source": [
    "# rfm_df.to_csv(\"rfm.csv\",index=False)"
   ]
  },
  {
   "cell_type": "code",
   "execution_count": 22,
   "metadata": {},
   "outputs": [
    {
     "data": {
      "text/plain": [
       "(300776.7959688206, 251414.07663127856, 207522.33072516037, 171562.43880574123)"
      ]
     },
     "execution_count": 22,
     "metadata": {},
     "output_type": "execute_result"
    }
   ],
   "source": [
    "# get recency percentiles :\n",
    "\n",
    "percentiles = [np.percentile(rfm_df.recency, i) for i in [85, 65, 40, 20]]\n",
    "R_85, R_65, R_40, R_20 = percentiles[0], percentiles[1], percentiles[2], percentiles[3]\n",
    "\n",
    "# get frequency percentiles : \n",
    "percentiles = [np.percentile(rfm_df.frequency, i) for i in [85, 65, 40, 20]]\n",
    "F_85, F_65, F_40, F_20 = percentiles[0], percentiles[1], percentiles[2], percentiles[3]\n",
    "\n",
    "# get monetary percentile : \n",
    "percentiles = [np.percentile(rfm_df.transaction_amt, i) for i in [85, 65, 40, 20]]\n",
    "M_85, M_65, M_40, M_20 = percentiles[0], percentiles[1], percentiles[2], percentiles[3]\n",
    "\n",
    "(M_85, M_65, M_40, M_20)"
   ]
  },
  {
   "cell_type": "code",
   "execution_count": 23,
   "metadata": {},
   "outputs": [],
   "source": [
    "def RScore(val) :\n",
    "    if val > R_85: return 5\n",
    "    elif val > R_65: return 4\n",
    "    elif val > R_40: return 3\n",
    "    elif val > R_20: return 2\n",
    "    else : return 1\n",
    "    \n",
    "def FScore(val) :\n",
    "    if val > F_85: return 5\n",
    "    elif val > F_65: return 4\n",
    "    elif val > F_40: return 3\n",
    "    elif val > F_20: return 2\n",
    "    else : return 1\n",
    "\n",
    "def MScore(val) :\n",
    "    if val > M_85: return 5\n",
    "    elif val > M_65: return 4\n",
    "    elif val > M_40: return 3\n",
    "    elif val > M_20: return 2\n",
    "    else : return 1"
   ]
  },
  {
   "cell_type": "code",
   "execution_count": 26,
   "metadata": {},
   "outputs": [],
   "source": [
    "rfm_df['recency'] = rfm_df.recency.apply(RScore)\n",
    "rfm_df['frequency'] = rfm_df.frequency.apply(FScore)\n",
    "rfm_df['monetary'] = rfm_df.transaction_amt.apply(MScore)\n",
    "rfm_df.drop('transaction_amt', axis=1, inplace=True)"
   ]
  },
  {
   "cell_type": "code",
   "execution_count": 29,
   "metadata": {},
   "outputs": [],
   "source": [
    "rfm_df.to_csv(\"rfm.csv\",index=False)"
   ]
  }
 ],
 "metadata": {
  "kernelspec": {
   "display_name": "Python 3",
   "language": "python",
   "name": "python3"
  },
  "language_info": {
   "codemirror_mode": {
    "name": "ipython",
    "version": 3
   },
   "file_extension": ".py",
   "mimetype": "text/x-python",
   "name": "python",
   "nbconvert_exporter": "python",
   "pygments_lexer": "ipython3",
   "version": "3.6.6"
  }
 },
 "nbformat": 4,
 "nbformat_minor": 2
}
