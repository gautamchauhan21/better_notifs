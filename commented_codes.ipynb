{
 "cells": [
  {
   "cell_type": "markdown",
   "metadata": {},
   "source": [
    "# Similarity items"
   ]
  },
  {
   "cell_type": "code",
   "execution_count": null,
   "metadata": {},
   "outputs": [],
   "source": [
    "# similarity_find_ds = events.drop([\"Unnamed: 0\",\"timestamp\",\"event\",\"transaction_amt\",\"transactionid\"],axis=1)\n",
    "# similarity_find_ds=similarity_find_ds.rename(columns = {'visitor_id':'user_id'})\n",
    "# import turicreate\n",
    "# sf = turicreate.SFrame(similarity_find_ds)\n",
    "# m = turicreate.item_similarity_recommender.create(sf)\n",
    "# nn = m.get_similar_items()\n",
    "# nn"
   ]
  },
  {
   "cell_type": "code",
   "execution_count": 1,
   "metadata": {},
   "outputs": [],
   "source": [
    "# import turicreate\n",
    "# recommend_ds = events.drop([\"timestamp\",\"transactionid\"],axis=1)\n",
    "# recommend_ds=recommend_ds.rename(columns = {'visitor_id':'user_id'})\n",
    "# sf = turicreate.SFrame(recommend_ds)\n",
    "# m = turicreate.ranking_factorization_recommender.create(sf)\n",
    "\n",
    "# recommendations = m.recommend()"
   ]
  },
  {
   "cell_type": "code",
   "execution_count": 2,
   "metadata": {},
   "outputs": [],
   "source": [
    "# turicreate.SFrame.export_csv(recommendations,\"rfm.csv\")"
   ]
  },
  {
   "cell_type": "code",
   "execution_count": 3,
   "metadata": {},
   "outputs": [],
   "source": [
    "# recommendation_csv = pd.read_csv(\"/Users/gautamchauhan21/smart_notifications/rfm.csv\")\n",
    "# recommendation_csv = recommendation_csv.sort_values(by='user_id')\n",
    "# recommendation_csv = recommendation_csv.reset_index(drop=True)\n",
    "# recommendation_csv"
   ]
  },
  {
   "cell_type": "code",
   "execution_count": null,
   "metadata": {},
   "outputs": [],
   "source": [
    "# x = list(recommendations.select_columns(['item_id']))\n",
    "# recommended_list = list()\n",
    "# for item in x:\n",
    "#     for key,value in item.items():\n",
    "#         recommended_list.append(value)\n",
    "# recommended_list"
   ]
  }
 ],
 "metadata": {
  "kernelspec": {
   "display_name": "Python 3",
   "language": "python",
   "name": "python3"
  },
  "language_info": {
   "codemirror_mode": {
    "name": "ipython",
    "version": 3
   },
   "file_extension": ".py",
   "mimetype": "text/x-python",
   "name": "python",
   "nbconvert_exporter": "python",
   "pygments_lexer": "ipython3",
   "version": "3.6.6"
  }
 },
 "nbformat": 4,
 "nbformat_minor": 2
}
