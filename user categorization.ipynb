{
 "cells": [
  {
   "cell_type": "code",
   "execution_count": 2,
   "metadata": {},
   "outputs": [],
   "source": [
    "import pandas as pd\n",
    "import numpy as np\n",
    "import matplotlib.pyplot as plt\n",
    "import matplotlib"
   ]
  },
  {
   "cell_type": "code",
   "execution_count": 2,
   "metadata": {},
   "outputs": [],
   "source": [
    "rfm = pd.read_csv('./rfm.csv')"
   ]
  },
  {
   "cell_type": "code",
   "execution_count": 3,
   "metadata": {},
   "outputs": [
    {
     "data": {
      "text/html": [
       "<div>\n",
       "<style scoped>\n",
       "    .dataframe tbody tr th:only-of-type {\n",
       "        vertical-align: middle;\n",
       "    }\n",
       "\n",
       "    .dataframe tbody tr th {\n",
       "        vertical-align: top;\n",
       "    }\n",
       "\n",
       "    .dataframe thead th {\n",
       "        text-align: right;\n",
       "    }\n",
       "</style>\n",
       "<table border=\"1\" class=\"dataframe\">\n",
       "  <thead>\n",
       "    <tr style=\"text-align: right;\">\n",
       "      <th></th>\n",
       "      <th>visitor_id</th>\n",
       "      <th>lastpurchasetime</th>\n",
       "      <th>recency</th>\n",
       "      <th>frequency</th>\n",
       "      <th>transaction_amt</th>\n",
       "    </tr>\n",
       "  </thead>\n",
       "  <tbody>\n",
       "    <tr>\n",
       "      <th>0</th>\n",
       "      <td>1</td>\n",
       "      <td>2019-02-09 13:07:42.611</td>\n",
       "      <td>18</td>\n",
       "      <td>91</td>\n",
       "      <td>292110.277656</td>\n",
       "    </tr>\n",
       "    <tr>\n",
       "      <th>1</th>\n",
       "      <td>2</td>\n",
       "      <td>2019-02-11 23:37:59.533</td>\n",
       "      <td>16</td>\n",
       "      <td>103</td>\n",
       "      <td>262238.426654</td>\n",
       "    </tr>\n",
       "    <tr>\n",
       "      <th>2</th>\n",
       "      <td>3</td>\n",
       "      <td>2019-02-09 19:49:39.239</td>\n",
       "      <td>18</td>\n",
       "      <td>91</td>\n",
       "      <td>108361.800668</td>\n",
       "    </tr>\n",
       "    <tr>\n",
       "      <th>3</th>\n",
       "      <td>4</td>\n",
       "      <td>2019-02-11 18:45:20.279</td>\n",
       "      <td>16</td>\n",
       "      <td>81</td>\n",
       "      <td>139132.195708</td>\n",
       "    </tr>\n",
       "    <tr>\n",
       "      <th>4</th>\n",
       "      <td>5</td>\n",
       "      <td>2019-02-11 14:07:52.022</td>\n",
       "      <td>16</td>\n",
       "      <td>91</td>\n",
       "      <td>139624.498537</td>\n",
       "    </tr>\n",
       "  </tbody>\n",
       "</table>\n",
       "</div>"
      ],
      "text/plain": [
       "   visitor_id         lastpurchasetime  recency  frequency  transaction_amt\n",
       "0           1  2019-02-09 13:07:42.611       18         91    292110.277656\n",
       "1           2  2019-02-11 23:37:59.533       16        103    262238.426654\n",
       "2           3  2019-02-09 19:49:39.239       18         91    108361.800668\n",
       "3           4  2019-02-11 18:45:20.279       16         81    139132.195708\n",
       "4           5  2019-02-11 14:07:52.022       16         91    139624.498537"
      ]
     },
     "execution_count": 3,
     "metadata": {},
     "output_type": "execute_result"
    }
   ],
   "source": [
    "rfm.head()"
   ]
  },
  {
   "cell_type": "code",
   "execution_count": 4,
   "metadata": {},
   "outputs": [
    {
     "data": {
      "text/html": [
       "<div>\n",
       "<style scoped>\n",
       "    .dataframe tbody tr th:only-of-type {\n",
       "        vertical-align: middle;\n",
       "    }\n",
       "\n",
       "    .dataframe tbody tr th {\n",
       "        vertical-align: top;\n",
       "    }\n",
       "\n",
       "    .dataframe thead th {\n",
       "        text-align: right;\n",
       "    }\n",
       "</style>\n",
       "<table border=\"1\" class=\"dataframe\">\n",
       "  <thead>\n",
       "    <tr style=\"text-align: right;\">\n",
       "      <th></th>\n",
       "      <th>visitor_id</th>\n",
       "      <th>recency</th>\n",
       "      <th>frequency</th>\n",
       "      <th>transaction_amt</th>\n",
       "    </tr>\n",
       "  </thead>\n",
       "  <tbody>\n",
       "    <tr>\n",
       "      <th>count</th>\n",
       "      <td>29999.000000</td>\n",
       "      <td>29999.000000</td>\n",
       "      <td>29999.000000</td>\n",
       "      <td>29999.000000</td>\n",
       "    </tr>\n",
       "    <tr>\n",
       "      <th>mean</th>\n",
       "      <td>15000.000000</td>\n",
       "      <td>16.912997</td>\n",
       "      <td>91.873096</td>\n",
       "      <td>229949.560230</td>\n",
       "    </tr>\n",
       "    <tr>\n",
       "      <th>std</th>\n",
       "      <td>8660.109699</td>\n",
       "      <td>1.790878</td>\n",
       "      <td>9.554434</td>\n",
       "      <td>68551.617485</td>\n",
       "    </tr>\n",
       "    <tr>\n",
       "      <th>min</th>\n",
       "      <td>1.000000</td>\n",
       "      <td>15.000000</td>\n",
       "      <td>56.000000</td>\n",
       "      <td>43820.213256</td>\n",
       "    </tr>\n",
       "    <tr>\n",
       "      <th>25%</th>\n",
       "      <td>7500.500000</td>\n",
       "      <td>16.000000</td>\n",
       "      <td>85.000000</td>\n",
       "      <td>181321.574005</td>\n",
       "    </tr>\n",
       "    <tr>\n",
       "      <th>50%</th>\n",
       "      <td>15000.000000</td>\n",
       "      <td>17.000000</td>\n",
       "      <td>92.000000</td>\n",
       "      <td>224478.075772</td>\n",
       "    </tr>\n",
       "    <tr>\n",
       "      <th>75%</th>\n",
       "      <td>22499.500000</td>\n",
       "      <td>18.000000</td>\n",
       "      <td>98.000000</td>\n",
       "      <td>272968.888982</td>\n",
       "    </tr>\n",
       "    <tr>\n",
       "      <th>max</th>\n",
       "      <td>29999.000000</td>\n",
       "      <td>32.000000</td>\n",
       "      <td>131.000000</td>\n",
       "      <td>569539.286393</td>\n",
       "    </tr>\n",
       "  </tbody>\n",
       "</table>\n",
       "</div>"
      ],
      "text/plain": [
       "         visitor_id       recency     frequency  transaction_amt\n",
       "count  29999.000000  29999.000000  29999.000000     29999.000000\n",
       "mean   15000.000000     16.912997     91.873096    229949.560230\n",
       "std     8660.109699      1.790878      9.554434     68551.617485\n",
       "min        1.000000     15.000000     56.000000     43820.213256\n",
       "25%     7500.500000     16.000000     85.000000    181321.574005\n",
       "50%    15000.000000     17.000000     92.000000    224478.075772\n",
       "75%    22499.500000     18.000000     98.000000    272968.888982\n",
       "max    29999.000000     32.000000    131.000000    569539.286393"
      ]
     },
     "execution_count": 4,
     "metadata": {},
     "output_type": "execute_result"
    }
   ],
   "source": [
    "rfm.describe()"
   ]
  },
  {
   "cell_type": "code",
   "execution_count": 5,
   "metadata": {},
   "outputs": [
    {
     "data": {
      "text/plain": [
       "(300776.7959688206, 251414.07663127856, 207522.33072516043, 171562.4388057412)"
      ]
     },
     "execution_count": 5,
     "metadata": {},
     "output_type": "execute_result"
    }
   ],
   "source": [
    "# get recency percentiles :\n",
    "\n",
    "percentiles = [np.percentile(rfm.recency, i) for i in [85, 65, 40, 20]]\n",
    "R_85, R_65, R_40, R_20 = percentiles[0], percentiles[1], percentiles[2], percentiles[3]\n",
    "\n",
    "# get frequency percentiles : \n",
    "percentiles = [np.percentile(rfm.frequency, i) for i in [85, 65, 40, 20]]\n",
    "F_85, F_65, F_40, F_20 = percentiles[0], percentiles[1], percentiles[2], percentiles[3]\n",
    "\n",
    "# get monetary percentile : \n",
    "percentiles = [np.percentile(rfm.transaction_amt, i) for i in [85, 65, 40, 20]]\n",
    "M_85, M_65, M_40, M_20 = percentiles[0], percentiles[1], percentiles[2], percentiles[3]\n",
    "\n",
    "(M_85, M_65, M_40, M_20)"
   ]
  },
  {
   "cell_type": "code",
   "execution_count": 6,
   "metadata": {},
   "outputs": [],
   "source": [
    "def RScore(val) :\n",
    "    if val > R_85: return 5\n",
    "    elif val > R_65: return 4\n",
    "    elif val > R_40: return 3\n",
    "    elif val > R_20: return 2\n",
    "    else : return 1\n",
    "    \n",
    "def FScore(val) :\n",
    "    if val > F_85: return 5\n",
    "    elif val > F_65: return 4\n",
    "    elif val > F_40: return 3\n",
    "    elif val > F_20: return 2\n",
    "    else : return 1\n",
    "\n",
    "def MScore(val) :\n",
    "    if val > M_85: return 5\n",
    "    elif val > M_65: return 4\n",
    "    elif val > M_40: return 3\n",
    "    elif val > M_20: return 2\n",
    "    else : return 1"
   ]
  },
  {
   "cell_type": "code",
   "execution_count": 7,
   "metadata": {},
   "outputs": [],
   "source": [
    "rfm['recency'] = rfm.recency.apply(RScore)\n",
    "rfm['frequency'] = rfm.frequency.apply(FScore)\n",
    "rfm['monetary'] = rfm.transaction_amt.apply(MScore)\n",
    "rfm.drop('transaction_amt', axis=1, inplace=True)\n"
   ]
  },
  {
   "cell_type": "code",
   "execution_count": 10,
   "metadata": {},
   "outputs": [
    {
     "data": {
      "image/png": "[encoded data removed]",
      "text/plain": [
       "<Figure size 432x288 with 1 Axes>"
      ]
     },
     "metadata": {
      "needs_background": "light"
     },
     "output_type": "display_data"
    }
   ],
   "source": [
    "plt.hist(rfm.recency);"
   ]
  },
  {
   "cell_type": "code",
   "execution_count": 11,
   "metadata": {},
   "outputs": [
    {
     "data": {
      "image/png": "[encoded data removed]",
      "text/plain": [
       "<Figure size 432x288 with 1 Axes>"
      ]
     },
     "metadata": {
      "needs_background": "light"
     },
     "output_type": "display_data"
    }
   ],
   "source": [
    "plt.hist(rfm.frequency);"
   ]
  },
  {
   "cell_type": "code",
   "execution_count": 12,
   "metadata": {},
   "outputs": [
    {
     "data": {
      "image/png": "[encoded data removed]",
      "text/plain": [
       "<Figure size 432x288 with 1 Axes>"
      ]
     },
     "metadata": {
      "needs_background": "light"
     },
     "output_type": "display_data"
    }
   ],
   "source": [
    "plt.hist(rfm.monetary);"
   ]
  },
  {
   "cell_type": "code",
   "execution_count": 11,
   "metadata": {},
   "outputs": [
    {
     "data": {
      "text/plain": [
       "Text(0, 0.5, 'Counts')"
      ]
     },
     "execution_count": 11,
     "metadata": {},
     "output_type": "execute_result"
    },
    {
     "data": {
      "image/png": "[encoded data removed]",
      "text/plain": [
       "<Figure size 432x288 with 2 Axes>"
      ]
     },
     "metadata": {
      "needs_background": "light"
     },
     "output_type": "display_data"
    }
   ],
   "source": [
    "plt.hist2d(rfm.recency, rfm.monetary)\n",
    "cbar = plt.colorbar()\n",
    "cbar.ax.set_ylabel('Counts')"
   ]
  },
  {
   "cell_type": "code",
   "execution_count": 13,
   "metadata": {},
   "outputs": [
    {
     "data": {
      "text/plain": [
       "Text(0, 0.5, 'Counts')"
      ]
     },
     "execution_count": 13,
     "metadata": {},
     "output_type": "execute_result"
    },
    {
     "data": {
      "image/png": "[encoded data removed]",
      "text/plain": [
       "<Figure size 432x288 with 2 Axes>"
      ]
     },
     "metadata": {
      "needs_background": "light"
     },
     "output_type": "display_data"
    }
   ],
   "source": [
    "plt.hist2d(rfm.frequency, rfm.monetary)\n",
    "cbar = plt.colorbar()\n",
    "cbar.ax.set_ylabel('Counts')"
   ]
  },
  {
   "cell_type": "markdown",
   "metadata": {},
   "source": [
    "Extract visitors that belong to a particular segment"
   ]
  },
  {
   "cell_type": "code",
   "execution_count": 14,
   "metadata": {},
   "outputs": [],
   "source": [
    "champions          = rfm[(rfm.recency >=4) & (rfm.frequency >= 4) & (rfm.monetary >= 4)].visitor_id.values\n",
    "loyal_customers    = rfm[(rfm.recency >= 2) & (rfm.frequency >= 3) & (rfm.monetary >= 3)].visitor_id.values\n",
    "potential_loyalist = rfm[(rfm.recency >= 3) & (rfm.frequency <= 3) & (rfm.monetary <= 3)].visitor_id.values\n",
    "new_customers      = rfm[(rfm.recency >= 4) & (rfm.frequency <= 1) & (rfm.monetary <=1)].visitor_id.values\n",
    "promising          = rfm[((rfm.recency >= 4) | (rfm.recency == 3)) & (rfm.frequency <= 1) & (rfm.monetary <=1)].visitor_id.values\n",
    "need_attention     = rfm[((rfm.recency == 2) | (rfm.recency == 3)) & ((rfm.frequency == 2) | (rfm.frequency == 3)) & ((rfm.monetary == 2) | (rfm.monetary == 3))].visitor_id.values\n",
    "about_to_sleep     = rfm[((rfm.recency == 2) | (rfm.recency == 3)) & (rfm.frequency <= 2) & (rfm.monetary <=2)].visitor_id.values\n",
    "at_risk            = rfm[(rfm.recency <= 2) & ((rfm.frequency <= 5) | (rfm.frequency >= 2)) & ((rfm.monetary <=5) | (rfm.monetary >= 2))].visitor_id.values\n",
    "cant_lose_them     = rfm[(rfm.recency <= 1) & ((rfm.frequency == 4) | (rfm.frequency == 5)) & ((rfm.monetary == 4) | (rfm.monetary == 5))].visitor_id.values\n",
    "hibernating        = rfm[((rfm.recency == 1) | (rfm.recency == 2)) & ((rfm.frequency == 1) | (rfm.frequency == 2)) & ((rfm.monetary == 1) | (rfm.monetary == 2))].visitor_id.values\n",
    "lost               = rfm[(rfm.recency <= 2) & (rfm.frequency <= 2) & (rfm.monetary <=2)].visitor_id.values"
   ]
  },
  {
   "cell_type": "raw",
   "metadata": {},
   "source": [
    "List of all possible notification"
   ]
  },
  {
   "cell_type": "code",
   "execution_count": 15,
   "metadata": {},
   "outputs": [],
   "source": [
    "customer_segments = ['Champions', 'Loyal', 'Potentially Loyal', 'New', 'Promising', 'Needs Attention', 'About To Sleep', 'At Risk', 'Cant Lose', 'Hibernating', 'Lost']\n",
    "notification_types = ['Holiday Promotions',\n",
    "                      'Sale Promotions',\n",
    "                      'New Product Offerings', \n",
    "                      'Company Announcements', \n",
    "                      'Welcome Email Series', \n",
    "                      'Cart Recovery Prompts',\n",
    "                      'Newsletters', \n",
    "                      'Customer Testimonials',\n",
    "                      'First-order-only coupons',\n",
    "                      'Order Confirmation',\n",
    "                      'Re-Ordering Forms',\n",
    "                      'Product Advice',\n",
    "                      'Product Recommendation', \n",
    "                      'Educational Content',\n",
    "                      'Customer Satisfaction Surveys',\n",
    "                      'Product Review Request',\n",
    "                      'Early Access To New Product',\n",
    "                      'Dedicated Referral Prompts',\n",
    "                      'Educational Content', \n",
    "                      'Exclusive Coupons',\n",
    "                      'Win-back Surveys', \n",
    "                      'Time-sensitive Coupons',\n",
    "                      'We miss you emails',\n",
    "                      'Big Product Update',\n",
    "                      'Customer service Update',\n",
    "                      'Major Announcement',\n",
    "                      'Big Product Discounts',\n",
    "                      'How-can we help? questionaires',\n",
    "                      'last-ditch emails',\n",
    "                      'Membership',\n",
    "                      'Personalized Email',\n",
    "                      'Reach Out Campaigns']"
   ]
  },
  {
   "cell_type": "markdown",
   "metadata": {},
   "source": [
    "\n",
    "# champions       3 times a week + rewarding notification\n",
    "# loyal customers 3 times a week + engaging notification\n",
    "# potential       2 times + offer + loyalty programs\n",
    "# new customers   2 times + product related recommendation\n",
    "# promising       2 times + offer + free trials\n",
    "# need_attention  1 times + (delaying the notification type of the customer does not responding)+ limited time offers\n",
    "# about to sleep   1 times + recommended popular products + renewal at discount\n",
    "# at_risk         1 times + renewal product \n",
    "# can't loose     1 times + \n",
    "# hibernating     1 times\n",
    "# lost            1 times"
   ]
  },
  {
   "cell_type": "code",
   "execution_count": 17,
   "metadata": {},
   "outputs": [],
   "source": [
    "df = pd.DataFrame(np.zeros((len(customer_segments), len(notification_types))), columns=notification_types, index=customer_segments)"
   ]
  },
  {
   "cell_type": "raw",
   "metadata": {},
   "source": [
    "Notifications that each type of user segment is interested in "
   ]
  },
  {
   "cell_type": "code",
   "execution_count": 18,
   "metadata": {},
   "outputs": [],
   "source": [
    "p_champions = ['Holiday Promotions',\n",
    "               'Sale Promotions',\n",
    "               'New Product Offerings',\n",
    "               'Company Announcements', \n",
    "               'Order Confirmations',\n",
    "               'Big Product Update',\n",
    "               'Early Access To New Products',\n",
    "               'Exclusive Coupons',\n",
    "               'Dedicated Referral Prompts',\n",
    "               'Major Announcement'\n",
    "              ]\n",
    "\n",
    "p_loyal = ['Holiday Promotions',\n",
    "           'New Product Offerings', \n",
    "           'Sale Promotions',\n",
    "           'Product Review Request', \n",
    "           'Product Advice',\n",
    "           'Educational Content', \n",
    "           'Big Product Update', \n",
    "           'Customer Service Update',\n",
    "           'Dedicated Referral Prompts',\n",
    "           'Major Announcement'\n",
    "          ]\n",
    "\n",
    "p_potential = ['Membership', \n",
    "               'Customer Testimonials',\n",
    "               'Product Recommendation',\n",
    "               'Company Announcements', \n",
    "               'Educational Content'\n",
    "               'Order Confirmation',\n",
    "\n",
    "              ]\n",
    "\n",
    "p_new = ['Welcome Email Series',\n",
    "         'Newsletters',\n",
    "         'Educational Content', \n",
    "         'How can we help questionaires',\n",
    "         'Membership',\n",
    "         'Cart Recovery Prompts',\n",
    "         'Sale Promotions',\n",
    "         'Order Confirmation',\n",
    "\n",
    "        ]\n",
    "\n",
    "p_promising = ['Newsletters', \n",
    "               'Customer Testimonials',\n",
    "               'First-order-only coupons',\n",
    "               'Time-sensitive Coupons',\n",
    "               'Big Product Update',\n",
    "               'How-can we help? questionaires',\n",
    "               'Sale Promotions',\n",
    "               'Order Confirmation'\n",
    "               ]\n",
    "\n",
    "p_need_attention = ['Time-sensitive Coupons',\n",
    "                    'How-can we help? questionaires',\n",
    "                    'Product Advice',\n",
    "                    'Product Recommendation', \n",
    "                    'Educational Content',\n",
    "                    'Exclusive Coupons',\n",
    "                    'Win-back Surveys', \n",
    "                    'We miss you emails',\n",
    "                    'Big Product Update',\n",
    "                    'Big Product Discounts'\n",
    "                    'Customer service Update',\n",
    "                    'Big Product Discounts'\n",
    "]\n",
    "\n",
    "p_about_to_sleep = ['last-ditch emails',  \n",
    "                    'Exclusive Coupons',\n",
    "                    'Win-back Surveys', \n",
    "                    'Big Product Discounts'\n",
    "                   ]\n",
    "\n",
    "p_at_risk = ['last-ditch emails',\n",
    "             'Personalized email',\n",
    "             'Big Product Discounts'\n",
    "             'How-can we help? questionaires'\n",
    "            ]\n",
    "\n",
    "p_cant_lose = ['Exclusive Coupons',\n",
    "               'Win-back Surveys', \n",
    "               'Personalized email',\n",
    "               'Big Product Discounts'\n",
    "               'We miss you emails',\n",
    "              ]\n",
    "\n",
    "p_hibernating = [ 'We miss you emails',\n",
    "                  'Newsletters', \n",
    "                  'Customer Testimonials',\n",
    "                  'Big Product Update',\n",
    "                  'Big Product Discounts',\n",
    "                  'Educational Content',\n",
    "                  'Exclusive Coupons'\n",
    "                ]\n",
    "p_lost = ['Personalized Email',\n",
    "          'Reach Out Campaigns']"
   ]
  },
  {
   "cell_type": "raw",
   "metadata": {},
   "source": [
    "Fill up the DataFrame \n",
    "1 -> if customer interested\n",
    "0 -> if irrelevant"
   ]
  },
  {
   "cell_type": "code",
   "execution_count": 20,
   "metadata": {},
   "outputs": [],
   "source": [
    "for i in p_champions :\n",
    "    df.loc['Champions'][i] = 1    "
   ]
  },
  {
   "cell_type": "code",
   "execution_count": 21,
   "metadata": {},
   "outputs": [],
   "source": [
    "for i in p_loyal :\n",
    "    df.loc['Loyal'][i] = 1"
   ]
  },
  {
   "cell_type": "code",
   "execution_count": 48,
   "metadata": {},
   "outputs": [],
   "source": [
    "for i in p_potential :\n",
    "    df.loc['Potentially Loyal'][i] = 1"
   ]
  },
  {
   "cell_type": "code",
   "execution_count": 23,
   "metadata": {},
   "outputs": [],
   "source": [
    "for i in p_new :\n",
    "    df.loc['New'][i] = 1"
   ]
  },
  {
   "cell_type": "code",
   "execution_count": 24,
   "metadata": {},
   "outputs": [],
   "source": [
    "for i in p_promising :\n",
    "    df.loc['Promising'][i] = 1"
   ]
  },
  {
   "cell_type": "code",
   "execution_count": 25,
   "metadata": {},
   "outputs": [],
   "source": [
    "for i in p_need_attention:\n",
    "    df.loc['Needs Attention'][i] = 1"
   ]
  },
  {
   "cell_type": "code",
   "execution_count": 26,
   "metadata": {},
   "outputs": [],
   "source": [
    "for i in p_about_to_sleep:\n",
    "    df.loc['About To Sleep'][i] = 1"
   ]
  },
  {
   "cell_type": "code",
   "execution_count": 27,
   "metadata": {},
   "outputs": [],
   "source": [
    "for i in p_at_risk:\n",
    "    df.loc['At Risk'][i] = 1"
   ]
  },
  {
   "cell_type": "code",
   "execution_count": 28,
   "metadata": {},
   "outputs": [],
   "source": [
    "for i in p_cant_lose:\n",
    "    df.loc['Cant Lose'][i] = 1"
   ]
  },
  {
   "cell_type": "code",
   "execution_count": 29,
   "metadata": {},
   "outputs": [],
   "source": [
    "for i in p_hibernating:\n",
    "    df.loc['Hibernating'][i] = 1"
   ]
  },
  {
   "cell_type": "code",
   "execution_count": 30,
   "metadata": {},
   "outputs": [],
   "source": [
    "for i in p_lost :\n",
    "    df.loc['Lost'][i] = 1"
   ]
  },
  {
   "cell_type": "code",
   "execution_count": null,
   "metadata": {},
   "outputs": [],
   "source": [
    "df.to_csv('Segment_Mapping.csv')"
   ]
  },
  {
   "cell_type": "markdown",
   "metadata": {},
   "source": [
    "Dataframe showing number recommended number notification to send to each customer segment"
   ]
  },
  {
   "cell_type": "code",
   "execution_count": 50,
   "metadata": {},
   "outputs": [],
   "source": [
    "df = pd.DataFrame(index=customer_segments)"
   ]
  },
  {
   "cell_type": "code",
   "execution_count": 51,
   "metadata": {},
   "outputs": [],
   "source": [
    "df['Recommended_frequency'] = [3, 3, 2, 2, 2, 1,1,1,1,1,1]"
   ]
  },
  {
   "cell_type": "code",
   "execution_count": 52,
   "metadata": {},
   "outputs": [],
   "source": [
    "df.to_csv('Recommended_Frequency.csv')"
   ]
  },
  {
   "cell_type": "code",
   "execution_count": 11,
   "metadata": {},
   "outputs": [],
   "source": [
    "import pandas as pd\n",
    "user_categorisation = pd.read_csv(\"/Users/gautamchauhan21/smart_notifications/Segment_Mapping.csv\",index_col=0)\n",
    "recommended_requency = pd.read_csv(\"/Users/gautamchauhan21/smart_notifications/Recommended_Frequency.csv\",index_col=0)"
   ]
  },
  {
   "cell_type": "code",
   "execution_count": 12,
   "metadata": {},
   "outputs": [
    {
     "data": {
      "text/html": [
       "<div>\n",
       "<style scoped>\n",
       "    .dataframe tbody tr th:only-of-type {\n",
       "        vertical-align: middle;\n",
       "    }\n",
       "\n",
       "    .dataframe tbody tr th {\n",
       "        vertical-align: top;\n",
       "    }\n",
       "\n",
       "    .dataframe thead th {\n",
       "        text-align: right;\n",
       "    }\n",
       "</style>\n",
       "<table border=\"1\" class=\"dataframe\">\n",
       "  <thead>\n",
       "    <tr style=\"text-align: right;\">\n",
       "      <th></th>\n",
       "      <th>Holiday Promotions</th>\n",
       "      <th>Sale Promotions</th>\n",
       "      <th>New Product Offerings</th>\n",
       "      <th>Company Announcements</th>\n",
       "      <th>Welcome Email Series</th>\n",
       "      <th>Cart Recovery Prompts</th>\n",
       "      <th>Newsletters</th>\n",
       "      <th>Customer Testimonials</th>\n",
       "      <th>First-order-only coupons</th>\n",
       "      <th>Order Confirmation</th>\n",
       "      <th>...</th>\n",
       "      <th>We miss you emails</th>\n",
       "      <th>Big Product Update</th>\n",
       "      <th>Customer service Update</th>\n",
       "      <th>Major Announcement</th>\n",
       "      <th>Big Product Discounts</th>\n",
       "      <th>How-can we help? questionaires</th>\n",
       "      <th>last-ditch emails</th>\n",
       "      <th>Membership</th>\n",
       "      <th>Personalized Email</th>\n",
       "      <th>Reach Out Campaigns</th>\n",
       "    </tr>\n",
       "  </thead>\n",
       "  <tbody>\n",
       "    <tr>\n",
       "      <th>Champions</th>\n",
       "      <td>1.0</td>\n",
       "      <td>1.0</td>\n",
       "      <td>1.0</td>\n",
       "      <td>1.0</td>\n",
       "      <td>0.0</td>\n",
       "      <td>0.0</td>\n",
       "      <td>0.0</td>\n",
       "      <td>0.0</td>\n",
       "      <td>0.0</td>\n",
       "      <td>0.0</td>\n",
       "      <td>...</td>\n",
       "      <td>0.0</td>\n",
       "      <td>1.0</td>\n",
       "      <td>0.0</td>\n",
       "      <td>1.0</td>\n",
       "      <td>0.0</td>\n",
       "      <td>0.0</td>\n",
       "      <td>0.0</td>\n",
       "      <td>0.0</td>\n",
       "      <td>0.0</td>\n",
       "      <td>0.0</td>\n",
       "    </tr>\n",
       "    <tr>\n",
       "      <th>Loyal</th>\n",
       "      <td>1.0</td>\n",
       "      <td>1.0</td>\n",
       "      <td>1.0</td>\n",
       "      <td>0.0</td>\n",
       "      <td>0.0</td>\n",
       "      <td>0.0</td>\n",
       "      <td>0.0</td>\n",
       "      <td>0.0</td>\n",
       "      <td>0.0</td>\n",
       "      <td>0.0</td>\n",
       "      <td>...</td>\n",
       "      <td>0.0</td>\n",
       "      <td>1.0</td>\n",
       "      <td>0.0</td>\n",
       "      <td>1.0</td>\n",
       "      <td>0.0</td>\n",
       "      <td>0.0</td>\n",
       "      <td>0.0</td>\n",
       "      <td>0.0</td>\n",
       "      <td>0.0</td>\n",
       "      <td>0.0</td>\n",
       "    </tr>\n",
       "    <tr>\n",
       "      <th>Potentially Loyal</th>\n",
       "      <td>0.0</td>\n",
       "      <td>0.0</td>\n",
       "      <td>0.0</td>\n",
       "      <td>1.0</td>\n",
       "      <td>0.0</td>\n",
       "      <td>0.0</td>\n",
       "      <td>0.0</td>\n",
       "      <td>1.0</td>\n",
       "      <td>0.0</td>\n",
       "      <td>0.0</td>\n",
       "      <td>...</td>\n",
       "      <td>0.0</td>\n",
       "      <td>0.0</td>\n",
       "      <td>0.0</td>\n",
       "      <td>0.0</td>\n",
       "      <td>0.0</td>\n",
       "      <td>0.0</td>\n",
       "      <td>0.0</td>\n",
       "      <td>1.0</td>\n",
       "      <td>0.0</td>\n",
       "      <td>0.0</td>\n",
       "    </tr>\n",
       "    <tr>\n",
       "      <th>New</th>\n",
       "      <td>0.0</td>\n",
       "      <td>1.0</td>\n",
       "      <td>0.0</td>\n",
       "      <td>0.0</td>\n",
       "      <td>1.0</td>\n",
       "      <td>1.0</td>\n",
       "      <td>1.0</td>\n",
       "      <td>0.0</td>\n",
       "      <td>0.0</td>\n",
       "      <td>1.0</td>\n",
       "      <td>...</td>\n",
       "      <td>0.0</td>\n",
       "      <td>0.0</td>\n",
       "      <td>0.0</td>\n",
       "      <td>0.0</td>\n",
       "      <td>0.0</td>\n",
       "      <td>0.0</td>\n",
       "      <td>0.0</td>\n",
       "      <td>1.0</td>\n",
       "      <td>0.0</td>\n",
       "      <td>0.0</td>\n",
       "    </tr>\n",
       "    <tr>\n",
       "      <th>Promising</th>\n",
       "      <td>0.0</td>\n",
       "      <td>1.0</td>\n",
       "      <td>0.0</td>\n",
       "      <td>0.0</td>\n",
       "      <td>0.0</td>\n",
       "      <td>0.0</td>\n",
       "      <td>1.0</td>\n",
       "      <td>1.0</td>\n",
       "      <td>1.0</td>\n",
       "      <td>1.0</td>\n",
       "      <td>...</td>\n",
       "      <td>0.0</td>\n",
       "      <td>1.0</td>\n",
       "      <td>0.0</td>\n",
       "      <td>0.0</td>\n",
       "      <td>0.0</td>\n",
       "      <td>1.0</td>\n",
       "      <td>0.0</td>\n",
       "      <td>0.0</td>\n",
       "      <td>0.0</td>\n",
       "      <td>0.0</td>\n",
       "    </tr>\n",
       "  </tbody>\n",
       "</table>\n",
       "<p>5 rows × 32 columns</p>\n",
       "</div>"
      ],
      "text/plain": [
       "                   Holiday Promotions  Sale Promotions  New Product Offerings  \\\n",
       "Champions                         1.0              1.0                    1.0   \n",
       "Loyal                             1.0              1.0                    1.0   \n",
       "Potentially Loyal                 0.0              0.0                    0.0   \n",
       "New                               0.0              1.0                    0.0   \n",
       "Promising                         0.0              1.0                    0.0   \n",
       "\n",
       "                   Company Announcements  Welcome Email Series  \\\n",
       "Champions                            1.0                   0.0   \n",
       "Loyal                                0.0                   0.0   \n",
       "Potentially Loyal                    1.0                   0.0   \n",
       "New                                  0.0                   1.0   \n",
       "Promising                            0.0                   0.0   \n",
       "\n",
       "                   Cart Recovery Prompts  Newsletters  Customer Testimonials  \\\n",
       "Champions                            0.0          0.0                    0.0   \n",
       "Loyal                                0.0          0.0                    0.0   \n",
       "Potentially Loyal                    0.0          0.0                    1.0   \n",
       "New                                  1.0          1.0                    0.0   \n",
       "Promising                            0.0          1.0                    1.0   \n",
       "\n",
       "                   First-order-only coupons  Order Confirmation  \\\n",
       "Champions                               0.0                 0.0   \n",
       "Loyal                                   0.0                 0.0   \n",
       "Potentially Loyal                       0.0                 0.0   \n",
       "New                                     0.0                 1.0   \n",
       "Promising                               1.0                 1.0   \n",
       "\n",
       "                          ...           We miss you emails  \\\n",
       "Champions                 ...                          0.0   \n",
       "Loyal                     ...                          0.0   \n",
       "Potentially Loyal         ...                          0.0   \n",
       "New                       ...                          0.0   \n",
       "Promising                 ...                          0.0   \n",
       "\n",
       "                   Big Product Update  Customer service Update  \\\n",
       "Champions                         1.0                      0.0   \n",
       "Loyal                             1.0                      0.0   \n",
       "Potentially Loyal                 0.0                      0.0   \n",
       "New                               0.0                      0.0   \n",
       "Promising                         1.0                      0.0   \n",
       "\n",
       "                   Major Announcement  Big Product Discounts  \\\n",
       "Champions                         1.0                    0.0   \n",
       "Loyal                             1.0                    0.0   \n",
       "Potentially Loyal                 0.0                    0.0   \n",
       "New                               0.0                    0.0   \n",
       "Promising                         0.0                    0.0   \n",
       "\n",
       "                   How-can we help? questionaires  last-ditch emails  \\\n",
       "Champions                                     0.0                0.0   \n",
       "Loyal                                         0.0                0.0   \n",
       "Potentially Loyal                             0.0                0.0   \n",
       "New                                           0.0                0.0   \n",
       "Promising                                     1.0                0.0   \n",
       "\n",
       "                   Membership  Personalized Email  Reach Out Campaigns  \n",
       "Champions                 0.0                 0.0                  0.0  \n",
       "Loyal                     0.0                 0.0                  0.0  \n",
       "Potentially Loyal         1.0                 0.0                  0.0  \n",
       "New                       1.0                 0.0                  0.0  \n",
       "Promising                 0.0                 0.0                  0.0  \n",
       "\n",
       "[5 rows x 32 columns]"
      ]
     },
     "execution_count": 12,
     "metadata": {},
     "output_type": "execute_result"
    }
   ],
   "source": [
    "user_categorisation.head()"
   ]
  },
  {
   "cell_type": "code",
   "execution_count": 13,
   "metadata": {},
   "outputs": [
    {
     "data": {
      "text/plain": [
       "Index(['Holiday Promotions', 'Sale Promotions', 'New Product Offerings',\n",
       "       'Company Announcements', 'Welcome Email Series',\n",
       "       'Cart Recovery Prompts', 'Newsletters', 'Customer Testimonials',\n",
       "       'First-order-only coupons', 'Order Confirmation', 'Re-Ordering Forms',\n",
       "       'Product Advice', 'Product Recommendation', 'Educational Content',\n",
       "       'Customer Satisfaction Surveys', 'Product Review Request',\n",
       "       'Early Access To New Product', 'Dedicated Referral Prompts',\n",
       "       'Educational Content.1', 'Exclusive Coupons', 'Win-back Surveys',\n",
       "       'Time-sensitive Coupons', 'We miss you emails', 'Big Product Update',\n",
       "       'Customer service Update', 'Major Announcement',\n",
       "       'Big Product Discounts', 'How-can we help? questionaires',\n",
       "       'last-ditch emails', 'Membership', 'Personalized Email',\n",
       "       'Reach Out Campaigns'],\n",
       "      dtype='object')"
      ]
     },
     "execution_count": 13,
     "metadata": {},
     "output_type": "execute_result"
    }
   ],
   "source": [
    "user_categorisation.columns"
   ]
  },
  {
   "cell_type": "code",
   "execution_count": null,
   "metadata": {},
   "outputs": [],
   "source": []
  },
  {
   "cell_type": "code",
   "execution_count": 3,
   "metadata": {},
   "outputs": [],
   "source": [
    "cat = pd.read_csv(\"/Users/gautamchauhan21/dataframes/category.csv\")\n",
    "cat1 = pd.read_csv(\"/Users/gautamchauhan21/dataframes/category1_corelationMatrix.csv\",index_col=0)\n",
    "cat2 = pd.read_csv(\"/Users/gautamchauhan21/dataframes/category2_corelationMatrix.csv\",index_col=0)\n",
    "cat3 = pd.read_csv(\"/Users/gautamchauhan21/dataframes/category3_corelationMatrix.csv\",index_col=0)"
   ]
  },
  {
   "cell_type": "code",
   "execution_count": 5,
   "metadata": {},
   "outputs": [
    {
     "name": "stderr",
     "output_type": "stream",
     "text": [
      "/Library/Frameworks/Python.framework/Versions/3.6/lib/python3.6/site-packages/h5py/__init__.py:36: FutureWarning: Conversion of the second argument of issubdtype from `float` to `np.floating` is deprecated. In future, it will be treated as `np.float64 == np.dtype(float).type`.\n",
      "  from ._conv import register_converters as _register_converters\n"
     ]
    }
   ],
   "source": [
    "import turicreate"
   ]
  },
  {
   "cell_type": "code",
   "execution_count": null,
   "metadata": {},
   "outputs": [],
   "source": [
    "cat1"
   ]
  }
 ],
 "metadata": {
  "kernelspec": {
   "display_name": "Python 3",
   "language": "python",
   "name": "python3"
  },
  "language_info": {
   "codemirror_mode": {
    "name": "ipython",
    "version": 3
   },
   "file_extension": ".py",
   "mimetype": "text/x-python",
   "name": "python",
   "nbconvert_exporter": "python",
   "pygments_lexer": "ipython3",
   "version": "3.6.6"
  }
 },
 "nbformat": 4,
 "nbformat_minor": 2
}
